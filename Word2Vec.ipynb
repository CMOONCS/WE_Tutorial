{
 "cells": [
  {
   "cell_type": "markdown",
   "id": "adolescent-provision",
   "metadata": {},
   "source": [
    "# Word2Vec model \n",
    "<b>Model training a on large dataset"
   ]
  },
  {
   "cell_type": "markdown",
   "id": "romance-popularity",
   "metadata": {},
   "source": [
    "<b>Install libraries if needed"
   ]
  },
  {
   "cell_type": "code",
   "execution_count": 97,
   "id": "elder-compatibility",
   "metadata": {},
   "outputs": [],
   "source": [
    "#!pip install spacy\n",
    "#!python -m spacy download en\n",
    "#!pip install bs4\n",
    "#!pip install lxml"
   ]
  },
  {
   "cell_type": "markdown",
   "id": "initial-daughter",
   "metadata": {},
   "source": [
    "### 1. Import all nesessary libraries"
   ]
  },
  {
   "cell_type": "code",
   "execution_count": 52,
   "id": "helpful-merit",
   "metadata": {},
   "outputs": [],
   "source": [
    "import re, string \n",
    "import pandas as pd \n",
    "from time import time  \n",
    "from collections import defaultdict\n",
    "import spacy\n",
    "from sklearn.manifold import TSNE\n",
    "from nltk.corpus import stopwords\n",
    "STOPWORDS = set(stopwords.words('english'))\n",
    "from gensim.models import Word2Vec\n",
    "from bs4 import BeautifulSoup\n",
    "import re, string\n",
    "%matplotlib inline"
   ]
  },
  {
   "cell_type": "markdown",
   "id": "isolated-threshold",
   "metadata": {},
   "source": [
    "###### IMDB Dataset of 50K movies reviews \n",
    "<a href =\"https://www.kaggle.com/lakshmi25npathi/imdb-dataset-of-50k-movie-reviews?select=IMDB+Dataset.csv\">Source </a>"
   ]
  },
  {
   "cell_type": "markdown",
   "id": "historical-jungle",
   "metadata": {},
   "source": [
    "### 2. Load and look at the data from a file containing raw text for movies reviews"
   ]
  },
  {
   "cell_type": "code",
   "execution_count": 99,
   "id": "arbitrary-enclosure",
   "metadata": {},
   "outputs": [
    {
     "data": {
      "text/html": [
       "<div>\n",
       "<style scoped>\n",
       "    .dataframe tbody tr th:only-of-type {\n",
       "        vertical-align: middle;\n",
       "    }\n",
       "\n",
       "    .dataframe tbody tr th {\n",
       "        vertical-align: top;\n",
       "    }\n",
       "\n",
       "    .dataframe thead th {\n",
       "        text-align: right;\n",
       "    }\n",
       "</style>\n",
       "<table border=\"1\" class=\"dataframe\">\n",
       "  <thead>\n",
       "    <tr style=\"text-align: right;\">\n",
       "      <th></th>\n",
       "      <th>review</th>\n",
       "    </tr>\n",
       "  </thead>\n",
       "  <tbody>\n",
       "    <tr>\n",
       "      <th>0</th>\n",
       "      <td>One of the other reviewers has mentioned that ...</td>\n",
       "    </tr>\n",
       "    <tr>\n",
       "      <th>1</th>\n",
       "      <td>A wonderful little production. &lt;br /&gt;&lt;br /&gt;The...</td>\n",
       "    </tr>\n",
       "    <tr>\n",
       "      <th>2</th>\n",
       "      <td>I thought this was a wonderful way to spend ti...</td>\n",
       "    </tr>\n",
       "    <tr>\n",
       "      <th>3</th>\n",
       "      <td>Basically there's a family where a little boy ...</td>\n",
       "    </tr>\n",
       "    <tr>\n",
       "      <th>4</th>\n",
       "      <td>Petter Mattei's \"Love in the Time of Money\" is...</td>\n",
       "    </tr>\n",
       "    <tr>\n",
       "      <th>...</th>\n",
       "      <td>...</td>\n",
       "    </tr>\n",
       "    <tr>\n",
       "      <th>49995</th>\n",
       "      <td>I thought this movie did a down right good job...</td>\n",
       "    </tr>\n",
       "    <tr>\n",
       "      <th>49996</th>\n",
       "      <td>Bad plot, bad dialogue, bad acting, idiotic di...</td>\n",
       "    </tr>\n",
       "    <tr>\n",
       "      <th>49997</th>\n",
       "      <td>I am a Catholic taught in parochial elementary...</td>\n",
       "    </tr>\n",
       "    <tr>\n",
       "      <th>49998</th>\n",
       "      <td>I'm going to have to disagree with the previou...</td>\n",
       "    </tr>\n",
       "    <tr>\n",
       "      <th>49999</th>\n",
       "      <td>No one expects the Star Trek movies to be high...</td>\n",
       "    </tr>\n",
       "  </tbody>\n",
       "</table>\n",
       "<p>50000 rows × 1 columns</p>\n",
       "</div>"
      ],
      "text/plain": [
       "                                                  review\n",
       "0      One of the other reviewers has mentioned that ...\n",
       "1      A wonderful little production. <br /><br />The...\n",
       "2      I thought this was a wonderful way to spend ti...\n",
       "3      Basically there's a family where a little boy ...\n",
       "4      Petter Mattei's \"Love in the Time of Money\" is...\n",
       "...                                                  ...\n",
       "49995  I thought this movie did a down right good job...\n",
       "49996  Bad plot, bad dialogue, bad acting, idiotic di...\n",
       "49997  I am a Catholic taught in parochial elementary...\n",
       "49998  I'm going to have to disagree with the previou...\n",
       "49999  No one expects the Star Trek movies to be high...\n",
       "\n",
       "[50000 rows x 1 columns]"
      ]
     },
     "execution_count": 99,
     "metadata": {},
     "output_type": "execute_result"
    }
   ],
   "source": [
    "df1 = pd.read_csv('Data/IMDB Dataset.csv')\n",
    "df1 = df1[[\"review\"]] \n",
    "df1"
   ]
  },
  {
   "cell_type": "markdown",
   "id": "hydraulic-laptop",
   "metadata": {},
   "source": [
    "### 3. Preparing the data (cleaning text)"
   ]
  },
  {
   "cell_type": "code",
   "execution_count": 101,
   "id": "referenced-madison",
   "metadata": {},
   "outputs": [],
   "source": [
    "clean = []\n",
    "for doc in df1['review']:\n",
    "    t = doc.lower() # lower case\n",
    "    t = BeautifulSoup(t,'html.parser').text #remove tags\n",
    "    t = re.sub('[^A-Za-z0-9]+',' ',t)\n",
    "    clean.append(t)\n",
    "df1['clean']= clean    \n"
   ]
  },
  {
   "cell_type": "markdown",
   "id": "smart-highland",
   "metadata": {},
   "source": [
    "<b>--> Look at the text after cleaning(preprocessing)"
   ]
  },
  {
   "cell_type": "code",
   "execution_count": 102,
   "id": "adapted-confirmation",
   "metadata": {
    "scrolled": true
   },
   "outputs": [
    {
     "data": {
      "text/html": [
       "<div>\n",
       "<style scoped>\n",
       "    .dataframe tbody tr th:only-of-type {\n",
       "        vertical-align: middle;\n",
       "    }\n",
       "\n",
       "    .dataframe tbody tr th {\n",
       "        vertical-align: top;\n",
       "    }\n",
       "\n",
       "    .dataframe thead th {\n",
       "        text-align: right;\n",
       "    }\n",
       "</style>\n",
       "<table border=\"1\" class=\"dataframe\">\n",
       "  <thead>\n",
       "    <tr style=\"text-align: right;\">\n",
       "      <th></th>\n",
       "      <th>review</th>\n",
       "      <th>clean</th>\n",
       "    </tr>\n",
       "  </thead>\n",
       "  <tbody>\n",
       "    <tr>\n",
       "      <th>0</th>\n",
       "      <td>One of the other reviewers has mentioned that ...</td>\n",
       "      <td>one of the other reviewers has mentioned that ...</td>\n",
       "    </tr>\n",
       "    <tr>\n",
       "      <th>1</th>\n",
       "      <td>A wonderful little production. &lt;br /&gt;&lt;br /&gt;The...</td>\n",
       "      <td>a wonderful little production the filming tech...</td>\n",
       "    </tr>\n",
       "    <tr>\n",
       "      <th>2</th>\n",
       "      <td>I thought this was a wonderful way to spend ti...</td>\n",
       "      <td>i thought this was a wonderful way to spend ti...</td>\n",
       "    </tr>\n",
       "    <tr>\n",
       "      <th>3</th>\n",
       "      <td>Basically there's a family where a little boy ...</td>\n",
       "      <td>basically there s a family where a little boy ...</td>\n",
       "    </tr>\n",
       "    <tr>\n",
       "      <th>4</th>\n",
       "      <td>Petter Mattei's \"Love in the Time of Money\" is...</td>\n",
       "      <td>petter mattei s love in the time of money is a...</td>\n",
       "    </tr>\n",
       "  </tbody>\n",
       "</table>\n",
       "</div>"
      ],
      "text/plain": [
       "                                              review  \\\n",
       "0  One of the other reviewers has mentioned that ...   \n",
       "1  A wonderful little production. <br /><br />The...   \n",
       "2  I thought this was a wonderful way to spend ti...   \n",
       "3  Basically there's a family where a little boy ...   \n",
       "4  Petter Mattei's \"Love in the Time of Money\" is...   \n",
       "\n",
       "                                               clean  \n",
       "0  one of the other reviewers has mentioned that ...  \n",
       "1  a wonderful little production the filming tech...  \n",
       "2  i thought this was a wonderful way to spend ti...  \n",
       "3  basically there s a family where a little boy ...  \n",
       "4  petter mattei s love in the time of money is a...  "
      ]
     },
     "execution_count": 102,
     "metadata": {},
     "output_type": "execute_result"
    }
   ],
   "source": [
    "df1.head()"
   ]
  },
  {
   "cell_type": "markdown",
   "id": "creative-greenhouse",
   "metadata": {},
   "source": [
    "<b>--> The training sample size (how many words present in the vocabulary?)"
   ]
  },
  {
   "cell_type": "code",
   "execution_count": 105,
   "id": "described-smooth",
   "metadata": {},
   "outputs": [
    {
     "name": "stdout",
     "output_type": "stream",
     "text": [
      "Sentences: 50000\n",
      "Words: 103435\n"
     ]
    }
   ],
   "source": [
    "sentences = [row.split() for row in df1['clean']]\n",
    "word_freq = defaultdict(int)\n",
    "for sent in sentences:\n",
    "    for i in sent:\n",
    "        word_freq[i] += 1\n",
    "\n",
    "print('Sentences:',len(sentences))\n",
    "print('Words:',len(word_freq))"
   ]
  },
  {
   "cell_type": "markdown",
   "id": "consolidated-nevada",
   "metadata": {},
   "source": [
    "<b>--> What are highly frequent words?"
   ]
  },
  {
   "cell_type": "code",
   "execution_count": 108,
   "id": "documentary-oregon",
   "metadata": {},
   "outputs": [
    {
     "data": {
      "text/plain": [
       "['the', 'and', 'a', 'of', 'to', 'is', 'it', 'in', 'i', 'this']"
      ]
     },
     "execution_count": 108,
     "metadata": {},
     "output_type": "execute_result"
    }
   ],
   "source": [
    "sorted(word_freq, key=word_freq.get, reverse= True)[:10]\n"
   ]
  },
  {
   "cell_type": "markdown",
   "id": "fallen-newton",
   "metadata": {},
   "source": [
    "### 4. Define Word2Vec model"
   ]
  },
  {
   "cell_type": "code",
   "execution_count": 110,
   "id": "established-spyware",
   "metadata": {},
   "outputs": [],
   "source": [
    "w2v_model = Word2Vec(min_count=1,\n",
    "                     window=5,\n",
    "                     size=100,\n",
    "                     workers=4)"
   ]
  },
  {
   "cell_type": "markdown",
   "id": "focal-basket",
   "metadata": {},
   "source": [
    "### 5. Build a vocabulary"
   ]
  },
  {
   "cell_type": "code",
   "execution_count": 111,
   "id": "pursuant-authorization",
   "metadata": {},
   "outputs": [],
   "source": [
    "w2v_model.build_vocab(sentences)"
   ]
  },
  {
   "cell_type": "markdown",
   "id": "democratic-stationery",
   "metadata": {},
   "source": [
    "### 6. Train the model"
   ]
  },
  {
   "cell_type": "code",
   "execution_count": 36,
   "id": "julian-edinburgh",
   "metadata": {},
   "outputs": [
    {
     "name": "stderr",
     "output_type": "stream",
     "text": [
      "/Applications/anaconda3/envs/Practice_ML/lib/python3.7/site-packages/ipykernel_launcher.py:1: DeprecationWarning: Call to deprecated `iter` (Attribute will be removed in 4.0.0, use self.epochs instead).\n",
      "  \"\"\"Entry point for launching an IPython kernel.\n"
     ]
    },
    {
     "data": {
      "text/plain": [
       "(368105, 480995)"
      ]
     },
     "execution_count": 36,
     "metadata": {},
     "output_type": "execute_result"
    }
   ],
   "source": [
    "w2v_model.train(sentences, total_examples=w2v_model.corpus_count, epochs=w2v_model.iter)\n",
    "# As we do not plan to train the model any further, \n",
    "# we are calling init_sims(), to male it Memory-efficient\n",
    "w2v_model.init_sims(replace=True)"
   ]
  },
  {
   "cell_type": "markdown",
   "id": "exciting-ottawa",
   "metadata": {},
   "source": [
    "### 7. Explore the model"
   ]
  },
  {
   "cell_type": "markdown",
   "id": "consolidated-phoenix",
   "metadata": {},
   "source": [
    "<b>--> Most similar words for a given word"
   ]
  },
  {
   "cell_type": "code",
   "execution_count": 136,
   "id": "premium-california",
   "metadata": {},
   "outputs": [
    {
     "data": {
      "text/plain": [
       "[('figgy', 0.4585677981376648),\n",
       " ('souls', 0.4219147264957428),\n",
       " ('maison', 0.41044050455093384),\n",
       " ('scaling', 0.4064280390739441),\n",
       " ('partido', 0.3814406991004944),\n",
       " ('benetakos', 0.3802940249443054),\n",
       " ('traffics', 0.37971746921539307),\n",
       " ('combatants', 0.3762507140636444),\n",
       " ('fawned', 0.3761526048183441),\n",
       " ('gadda', 0.37452274560928345)]"
      ]
     },
     "execution_count": 136,
     "metadata": {},
     "output_type": "execute_result"
    }
   ],
   "source": [
    "# Explore the model\n",
    "w = 'comedy'\n",
    "w2v_model.wv.most_similar(positive=[w])"
   ]
  },
  {
   "cell_type": "markdown",
   "id": "greek-squad",
   "metadata": {},
   "source": [
    "<b>--> Top 5 similar words"
   ]
  },
  {
   "cell_type": "code",
   "execution_count": 116,
   "id": "defensive-agriculture",
   "metadata": {},
   "outputs": [
    {
     "data": {
      "text/plain": [
       "[('loosly', 0.4030660092830658),\n",
       " ('quarries', 0.3970834016799927),\n",
       " ('phenomena', 0.3949154019355774),\n",
       " ('blyth', 0.3932012915611267),\n",
       " ('1865', 0.3871738910675049),\n",
       " ('employed', 0.3858538866043091)]"
      ]
     },
     "execution_count": 116,
     "metadata": {},
     "output_type": "execute_result"
    }
   ],
   "source": [
    "w = 'horror'\n",
    "w2v_model.wv.most_similar(positive=[w],topn =6)"
   ]
  },
  {
   "cell_type": "markdown",
   "id": "becoming-upper",
   "metadata": {},
   "source": [
    "<b>--> Similarity between two words"
   ]
  },
  {
   "cell_type": "code",
   "execution_count": 124,
   "id": "changing-wilson",
   "metadata": {},
   "outputs": [
    {
     "data": {
      "text/plain": [
       "-0.22258782"
      ]
     },
     "execution_count": 124,
     "metadata": {},
     "output_type": "execute_result"
    }
   ],
   "source": [
    "u = 'he'; v = 'steven'\n",
    "w2v_model.wv.similarity(u,v)"
   ]
  },
  {
   "cell_type": "markdown",
   "id": "settled-disability",
   "metadata": {},
   "source": [
    "<b>--> Plot embeddings</b><br>\n",
    "  Consider some informative terms in the vocabulary  "
   ]
  },
  {
   "cell_type": "code",
   "execution_count": null,
   "id": "superb-assembly",
   "metadata": {},
   "outputs": [],
   "source": [
    "# 50 informative terms that compose our model vocabulary \n",
    "informative_terms = (\"bad\", \"great\", \"best\", \"worst\", \"fun\", \"beautiful\",\n",
    "                     \"excellent\", \"poor\", \"boring\", \"awful\", \"terrible\",\n",
    "                     \"definitely\", \"perfect\", \"liked\", \"worse\", \"waste\",\n",
    "                     \"entertaining\", \"loved\", \"unfortunately\", \"amazing\",\n",
    "                     \"enjoyed\", \"favorite\", \"horrible\", \"brilliant\", \"highly\",\n",
    "                     \"simple\", \"annoying\", \"today\", \"hilarious\", \"enjoyable\",\n",
    "                     \"dull\", \"fantastic\", \"poorly\", \"fails\", \"disappointing\",\n",
    "                     \"disappointment\", \"not\", \"him\", \"her\", \"good\", \"time\",\n",
    "                      \"movie\", \"film\", \"action\", \"comedy\",\n",
    "                     \"drama\", \"family\", \"dialogue\",\"plot\",\"acting\")"
   ]
  },
  {
   "cell_type": "markdown",
   "id": "fifty-willow",
   "metadata": {},
   "source": [
    "<b>--> Define and call a function to plot (using TSNE tool) "
   ]
  },
  {
   "cell_type": "code",
   "execution_count": 126,
   "id": "intelligent-billion",
   "metadata": {},
   "outputs": [
    {
     "name": "stderr",
     "output_type": "stream",
     "text": [
      "/Applications/anaconda3/envs/Practice_ML/lib/python3.7/site-packages/ipykernel_launcher.py:9: DeprecationWarning: Call to deprecated `__getitem__` (Method will be removed in 4.0.0, use self.wv.__getitem__() instead).\n",
      "  if __name__ == '__main__':\n"
     ]
    },
    {
     "data": {
      "image/png": "[encoded data removed]",
      "text/plain": [
       "<Figure size 1080x1080 with 1 Axes>"
      ]
     },
     "metadata": {
      "needs_background": "light"
     },
     "output_type": "display_data"
    }
   ],
   "source": [
    "## define a function to plot \n",
    "import matplotlib.pyplot as plt\n",
    "def tsne_plot(model,words_labels):\n",
    "    \"Create TSNE model and plot it\"\n",
    "    labels = []\n",
    "    tokens = []\n",
    "\n",
    "    for word in words_labels:\n",
    "        tokens.append(model[word])\n",
    "        labels.append(word)\n",
    "    \n",
    "    tsne_model = TSNE(perplexity=5, n_components=2, init='pca', n_iter=2500, random_state=23)\n",
    "    new_values = tsne_model.fit_transform(tokens)\n",
    "\n",
    "    x = []\n",
    "    y = []\n",
    "    for value in new_values:\n",
    "        x.append(value[0])\n",
    "        y.append(value[1])\n",
    "        \n",
    "    plt.figure(figsize=(15, 15)) \n",
    "    for i in range(len(x)):\n",
    "        plt.scatter(x[i],y[i])\n",
    "        plt.annotate(labels[i],\n",
    "                     xy=(x[i], y[i]),\n",
    "                     xytext=(5, 2),\n",
    "                     textcoords='offset points',\n",
    "                     ha='right',\n",
    "                     va='bottom')\n",
    "    plt.show()\n",
    "    \n",
    " ## call this function\n",
    "tsne_plot(w2v_model,informative_terms)"
   ]
  }
 ],
 "metadata": {
  "kernelspec": {
   "display_name": "Python 3",
   "language": "python",
   "name": "python3"
  },
  "language_info": {
   "codemirror_mode": {
    "name": "ipython",
    "version": 3
   },
   "file_extension": ".py",
   "mimetype": "text/x-python",
   "name": "python",
   "nbconvert_exporter": "python",
   "pygments_lexer": "ipython3",
   "version": "3.7.7"
  }
 },
 "nbformat": 4,
 "nbformat_minor": 5
}
